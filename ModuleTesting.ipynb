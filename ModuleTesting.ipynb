{
  "nbformat": 4,
  "nbformat_minor": 0,
  "metadata": {
    "colab": {
      "name": "ModuleTesting.ipynb",
      "provenance": []
    },
    "kernelspec": {
      "name": "python3",
      "display_name": "Python 3"
    }
  },
  "cells": [
    {
      "cell_type": "markdown",
      "metadata": {
        "id": "en681roPuWVh",
        "colab_type": "text"
      },
      "source": [
        "# Module Testing"
      ]
    },
    {
      "cell_type": "markdown",
      "metadata": {
        "id": "ydoG62lLNwQZ",
        "colab_type": "text"
      },
      "source": [
        "# API Testing"
      ]
    },
    {
      "cell_type": "code",
      "metadata": {
        "id": "P9OP8SmvN0ah",
        "colab_type": "code",
        "colab": {}
      },
      "source": [
        "import requests, json"
      ],
      "execution_count": 0,
      "outputs": []
    },
    {
      "cell_type": "code",
      "metadata": {
        "id": "bf576IuSN2tG",
        "colab_type": "code",
        "colab": {
          "base_uri": "https://localhost:8080/",
          "height": 34
        },
        "outputId": "63bda8b7-d341-422d-fb6b-d9e50a931acc"
      },
      "source": [
        "url = \"https://covid-19-data.p.rapidapi.com/report/totals\"\n",
        "headers = {\"x-rapidapi-host\": \"covid-19-statistics.p.rapidapi.com\", \"x-rapidapi-key\": \"api-pw\"}\n",
        "response = requests.request(\"GET\", url, headers=headers)\n",
        "print(response.text)"
      ],
      "execution_count": 6,
      "outputs": [
        {
          "output_type": "stream",
          "text": [
            "{\"message\":\"Endpoint\\/report\\/totals does not exist\"}\n"
          ],
          "name": "stdout"
        }
      ]
    },
    {
      "cell_type": "code",
      "metadata": {
        "id": "F6m-7dwbOLRM",
        "colab_type": "code",
        "colab": {
          "base_uri": "https://localhost:8080/",
          "height": 34
        },
        "outputId": "9ff9b579-7075-43f8-f27a-af7e2bbd0542"
      },
      "source": [
        "js = json.loads(response.text)\n",
        "#print(\"******\", js)\n",
        "result = js.get('data')\n",
        "print(result)"
      ],
      "execution_count": 7,
      "outputs": [
        {
          "output_type": "stream",
          "text": [
            "None\n"
          ],
          "name": "stdout"
        }
      ]
    },
    {
      "cell_type": "code",
      "metadata": {
        "id": "bB5WLKV8OTMz",
        "colab_type": "code",
        "colab": {
          "base_uri": "https://localhost:8080/",
          "height": 34
        },
        "outputId": "8861c981-7988-4020-9e8b-d1d9ff909805"
      },
      "source": [
        "import requests\n",
        "\n",
        "url = \"https://covid-19-data.p.rapidapi.com/report/totals\"\n",
        "\n",
        "querystring = {\"date-format\":\"YYYY-MM-DD\",\"format\":\"json\",\"date\":\"2020-04-01\"}\n",
        "\n",
        "headers = {\n",
        "    'x-rapidapi-host': \"covid-19-data.p.rapidapi.com\",\n",
        "    'x-rapidapi-key': \"api-pw\"\n",
        "    }\n",
        "\n",
        "response = requests.request(\"GET\", url, headers=headers, params=querystring)\n",
        "\n",
        "print(response.text)"
      ],
      "execution_count": 8,
      "outputs": [
        {
          "output_type": "stream",
          "text": [
            "{\"message\":\"You are not subscribed to this API.\"}\n"
          ],
          "name": "stdout"
        }
      ]
    },
    {
      "cell_type": "code",
      "metadata": {
        "id": "h6oWMeG4OZAd",
        "colab_type": "code",
        "colab": {
          "base_uri": "https://localhost:8080/",
          "height": 34
        },
        "outputId": "988a2ab5-1fef-4cb5-9ee9-2f5202887838"
      },
      "source": [
        "import requests\n",
        "\n",
        "url = \"https://covid-19-data.p.rapidapi.com/totals\"\n",
        "\n",
        "querystring = {\"format\": \"India\"}\n",
        "\n",
        "headers = {\n",
        "    'x-rapidapi-host': \"covid-19-data.p.rapidapi.com\",\n",
        "    'x-rapidapi-key': \"api-pw\"\n",
        "    }\n",
        "\n",
        "response = requests.request(\"GET\", url, headers=headers, params=querystring)\n",
        "\n",
        "print(response.text)"
      ],
      "execution_count": 9,
      "outputs": [
        {
          "output_type": "stream",
          "text": [
            "{\"message\":\"You are not subscribed to this API.\"}\n"
          ],
          "name": "stdout"
        }
      ]
    },
    {
      "cell_type": "code",
      "metadata": {
        "id": "But9pYFmOwO7",
        "colab_type": "code",
        "colab": {
          "base_uri": "https://localhost:8080/",
          "height": 54
        },
        "outputId": "6f1db276-9497-40cd-b9b6-cdc50d84c997"
      },
      "source": [
        "import requests\n",
        "\n",
        "url = \"https://covid-193.p.rapidapi.com/statistics\"\n",
        "querystring = {\"country\": \"India\"}\n",
        "headers = {'x-rapidapi-host': \"covid-193.p.rapidapi.com\", 'x-rapidapi-key': \"api-pw\"}\n",
        "\n",
        "response = requests.request(\"GET\", url, headers=headers, params=querystring)\n",
        "\n",
        "print(response.text)"
      ],
      "execution_count": 10,
      "outputs": [
        {
          "output_type": "stream",
          "text": [
            "{\"get\":\"statistics\",\"parameters\":{\"country\":\"India\"},\"errors\":[],\"results\":1,\"response\":[{\"country\":\"India\",\"cases\":{\"new\":\"+513\",\"active\":77304,\"critical\":8944,\"recovered\":57721,\"total\":139049},\"deaths\":{\"new\":null,\"total\":4024},\"tests\":{\"total\":3033591},\"day\":\"2020-05-25\",\"time\":\"2020-05-25T07:45:04+00:00\"}]}\n"
          ],
          "name": "stdout"
        }
      ]
    },
    {
      "cell_type": "code",
      "metadata": {
        "id": "ezKFif6tPHuB",
        "colab_type": "code",
        "colab": {
          "base_uri": "https://localhost:8080/",
          "height": 54
        },
        "outputId": "30ebb2da-c43b-4c57-be8b-e7c40696491d"
      },
      "source": [
        "url = \"https://covid19-data.p.rapidapi.com/india\"\n",
        "headers = {'x-rapidapi-host': \"covid19-data.p.rapidapi.com\", 'x-rapidapi-key': \"api-pw\"}\n",
        "response = requests.request(\"GET\", url, headers=headers)\n",
        "print(response.text)"
      ],
      "execution_count": 11,
      "outputs": [
        {
          "output_type": "stream",
          "text": [
            "[{\"countrycode\":\"IN\",\"country\":\"India\",\"state\":\"Andaman and Nicobar Islands\",\"latitude\":\"11.7401\",\"longitude\":\"92.6586\",\"confirmed\":33,\"deaths\":0,\"recovered\":33,\"active\":0},{\"countrycode\":\"IN\",\"country\":\"India\",\"state\":\"Andhra Pradesh\",\"latitude\":\"15.9129\",\"longitude\":\"79.74\",\"confirmed\":2709,\"deaths\":55,\"recovered\":1763,\"active\":891},{\"countrycode\":\"IN\",\"country\":\"India\",\"state\":\"Arunachal Pradesh\",\"latitude\":\"28.218\",\"longitude\":\"94.7278\",\"confirmed\":1,\"deaths\":0,\"recovered\":1,\"active\":0},{\"countrycode\":\"IN\",\"country\":\"India\",\"state\":\"Assam\",\"latitude\":\"26.2006\",\"longitude\":\"92.9376\",\"confirmed\":259,\"deaths\":4,\"recovered\":54,\"active\":201},{\"countrycode\":\"IN\",\"country\":\"India\",\"state\":\"Bihar\",\"latitude\":\"25.0961\",\"longitude\":\"85.3131\",\"confirmed\":2177,\"deaths\":11,\"recovered\":629,\"active\":1537},{\"countrycode\":\"IN\",\"country\":\"India\",\"state\":\"Chandigarh\",\"latitude\":\"30.7333\",\"longitude\":\"76.7794\",\"confirmed\":218,\"deaths\":3,\"recovered\":178,\"active\":37},{\"countrycode\":\"IN\",\"country\":\"India\",\"state\":\"Chhattisgarh\",\"latitude\":\"21.2787\",\"longitude\":\"81.8661\",\"confirmed\":172,\"deaths\":0,\"recovered\":62,\"active\":110},{\"countrycode\":\"IN\",\"country\":\"India\",\"state\":\"Delhi\",\"latitude\":\"28.7041\",\"longitude\":\"77.1025\",\"confirmed\":12319,\"deaths\":208,\"recovered\":5897,\"active\":6214},{\"countrycode\":\"IN\",\"country\":\"India\",\"state\":\"Goa\",\"latitude\":\"15.2993\",\"longitude\":\"74.124\",\"confirmed\":54,\"deaths\":0,\"recovered\":16,\"active\":38},{\"countrycode\":\"IN\",\"country\":\"India\",\"state\":\"Gujarat\",\"latitude\":\"22.309425\",\"longitude\":\"72.13623\",\"confirmed\":13268,\"deaths\":802,\"recovered\":5880,\"active\":6586},{\"countrycode\":\"IN\",\"country\":\"India\",\"state\":\"Haryana\",\"latitude\":\"29.238478\",\"longitude\":\"76.431885\",\"confirmed\":1067,\"deaths\":16,\"recovered\":706,\"active\":345},{\"countrycode\":\"IN\",\"country\":\"India\",\"state\":\"Himachal Pradesh\",\"latitude\":\"32.084206\",\"longitude\":\"77.571167\",\"confirmed\":168,\"deaths\":3,\"recovered\":59,\"active\":106},{\"countrycode\":\"IN\",\"country\":\"India\",\"state\":\"Jammu and Kashmir\",\"latitude\":\"33.7782\",\"longitude\":\"76.5762\",\"confirmed\":1489,\"deaths\":20,\"recovered\":720,\"active\":749},{\"countrycode\":\"IN\",\"country\":\"India\",\"state\":\"Jharkhand\",\"latitude\":\"23.6102\",\"longitude\":\"85.2799\",\"confirmed\":308,\"deaths\":3,\"recovered\":136,\"active\":169},{\"countrycode\":\"IN\",\"country\":\"India\",\"state\":\"Karnataka\",\"latitude\":\"15.317277\",\"longitude\":\"75.71389\",\"confirmed\":1743,\"deaths\":41,\"recovered\":597,\"active\":1105},{\"countrycode\":\"IN\",\"country\":\"India\",\"state\":\"Kerala\",\"latitude\":\"10.850516\",\"longitude\":\"76.27108\",\"confirmed\":732,\"deaths\":4,\"recovered\":512,\"active\":216},{\"countrycode\":\"IN\",\"country\":\"India\",\"state\":\"Ladakh\",\"latitude\":\"34.152588\",\"longitude\":\"77.577049\",\"confirmed\":44,\"deaths\":0,\"recovered\":43,\"active\":1},{\"countrycode\":\"IN\",\"country\":\"India\",\"state\":\"Madhya Pradesh\",\"latitude\":\"23.473324\",\"longitude\":\"77.947998\",\"confirmed\":6170,\"deaths\":272,\"recovered\":3089,\"active\":2809},{\"countrycode\":\"IN\",\"country\":\"India\",\"state\":\"Maharashtra\",\"latitude\":\"19.601194\",\"longitude\":\"75.552979\",\"confirmed\":44582,\"deaths\":1517,\"recovered\":12583,\"active\":30482},{\"countrycode\":\"IN\",\"country\":\"India\",\"state\":\"Manipur\",\"latitude\":\"24.6637\",\"longitude\":\"93.9063\",\"confirmed\":26,\"deaths\":0,\"recovered\":2,\"active\":24},{\"countrycode\":\"IN\",\"country\":\"India\",\"state\":\"Meghalaya\",\"latitude\":\"25.467\",\"longitude\":\"91.3662\",\"confirmed\":14,\"deaths\":1,\"recovered\":12,\"active\":1},{\"countrycode\":\"IN\",\"country\":\"India\",\"state\":\"Mizoram\",\"latitude\":\"23.1645\",\"longitude\":\"92.9376\",\"confirmed\":1,\"deaths\":0,\"recovered\":1,\"active\":0},{\"countrycode\":\"IN\",\"country\":\"India\",\"state\":\"Odisha\",\"latitude\":\"20.94092\",\"longitude\":\"84.803467\",\"confirmed\":1189,\"deaths\":7,\"recovered\":436,\"active\":746},{\"countrycode\":\"IN\",\"country\":\"India\",\"state\":\"Puducherry\",\"latitude\":\"11.9416\",\"longitude\":\"79.8083\",\"confirmed\":26,\"deaths\":0,\"recovered\":10,\"active\":16},{\"countrycode\":\"IN\",\"country\":\"India\",\"state\":\"Punjab\",\"latitude\":\"30.525005\",\"longitude\":\"75.890121\",\"confirmed\":2029,\"deaths\":39,\"recovered\":1847,\"active\":143},{\"countrycode\":\"IN\",\"country\":\"India\",\"state\":\"Rajasthan\",\"latitude\":\"27.0238\",\"longitude\":\"74.2179\",\"confirmed\":6494,\"deaths\":153,\"recovered\":3680,\"active\":2661},{\"countrycode\":\"IN\",\"country\":\"India\",\"state\":\"Tamil Nadu\",\"latitude\":\"11.059821\",\"longitude\":\"78.387451\",\"confirmed\":14753,\"deaths\":98,\"recovered\":7128,\"active\":7527},{\"countrycode\":\"IN\",\"country\":\"India\",\"state\":\"Telengana\",\"latitude\":\"17.123184\",\"longitude\":\"79.208824\",\"confirmed\":1761,\"deaths\":45,\"recovered\":1043,\"active\":673},{\"countrycode\":\"IN\",\"country\":\"India\",\"state\":\"Tripura\",\"latitude\":\"23.9408\",\"longitude\":\"91.9882\",\"confirmed\":175,\"deaths\":0,\"recovered\":152,\"active\":0},{\"countrycode\":\"IN\",\"country\":\"India\",\"state\":\"Uttarakhand\",\"latitude\":\"30.0668\",\"longitude\":\"79.0193\",\"confirmed\":153,\"deaths\":1,\"recovered\":56,\"active\":96},{\"countrycode\":\"IN\",\"country\":\"India\",\"state\":\"Uttar Pradesh\",\"latitude\":\"26.8467\",\"longitude\":\"80.9462\",\"confirmed\":5735,\"deaths\":152,\"recovered\":3238,\"active\":2345},{\"countrycode\":\"IN\",\"country\":\"India\",\"state\":\"West Bengal\",\"latitude\":\"22.978624\",\"longitude\":\"87.747803\",\"confirmed\":3332,\"deaths\":265,\"recovered\":1221,\"active\":1846},{\"countrycode\":\"IN\",\"country\":\"India\",\"state\":\"Lakshadweep\",\"latitude\":\"13.7\",\"longitude\":\"72.1833\",\"confirmed\":0,\"deaths\":0,\"recovered\":0,\"active\":0},{\"countrycode\":\"IN\",\"country\":\"India\",\"state\":\"Dadra and Nagar Haveli\",\"latitude\":\"20.1809\",\"longitude\":\"73.0169\",\"confirmed\":1,\"deaths\":0,\"recovered\":0,\"active\":1},{\"countrycode\":\"IN\",\"country\":\"India\",\"state\":\"Uttaranchal\",\"latitude\":\"30.0668\",\"longitude\":\"79.0193\",\"confirmed\":0,\"deaths\":0,\"recovered\":0,\"active\":0},{\"countrycode\":\"IN\",\"country\":\"India\",\"state\":\"Daman and Diu\",\"latitude\":\"20.4283\",\"longitude\":\"72.8397\",\"confirmed\":0,\"deaths\":0,\"recovered\":0,\"active\":0},{\"countrycode\":\"IN\",\"country\":\"India\",\"state\":\"Sikkim\",\"latitude\":\"27.533\",\"longitude\":\"88.5122\",\"confirmed\":0,\"deaths\":0,\"recovered\":0,\"active\":0},{\"countrycode\":\"IN\",\"country\":\"India\",\"state\":\"Nagaland\",\"latitude\":\"26.1584\",\"longitude\":\"94.5624\",\"confirmed\":0,\"deaths\":0,\"recovered\":0,\"active\":0}]\n"
          ],
          "name": "stdout"
        }
      ]
    },
    {
      "cell_type": "code",
      "metadata": {
        "id": "KfwaZj1pPP6O",
        "colab_type": "code",
        "colab": {
          "base_uri": "https://localhost:8080/",
          "height": 272
        },
        "outputId": "00ae05bf-bc9a-4c34-ee80-3676c51bb4a0"
      },
      "source": [
        "url = \"https://covid-19-statistics.p.rapidapi.com/reports/total\"\n",
        "headers = {\"x-rapidapi-host\": \"covid-19-statistics.p.rapidapi.com\", \"x-rapidapi-key\": \"api-pw\"}\n",
        "response = requests.request(\"GET\", url, headers=headers)\n",
        "print(response.text)"
      ],
      "execution_count": 12,
      "outputs": [
        {
          "output_type": "stream",
          "text": [
            "{\n",
            "    \"data\": {\n",
            "        \"date\": \"2020-05-24\",\n",
            "        \"last_update\": \"2020-05-25 02:32:44\",\n",
            "        \"confirmed\": 5407613,\n",
            "        \"confirmed_diff\": 97251,\n",
            "        \"deaths\": 345059,\n",
            "        \"deaths_diff\": 2962,\n",
            "        \"recovered\": 2168563,\n",
            "        \"recovered_diff\": 56378,\n",
            "        \"active\": 2893991,\n",
            "        \"active_diff\": 37911,\n",
            "        \"fatality_rate\": 0.0638\n",
            "    }\n",
            "}\n"
          ],
          "name": "stdout"
        }
      ]
    },
    {
      "cell_type": "code",
      "metadata": {
        "id": "KeHRH6e6S_9j",
        "colab_type": "code",
        "colab": {
          "base_uri": "https://localhost:8080/",
          "height": 54
        },
        "outputId": "920c72f3-3946-4e0f-fdb0-b9796ca536d4"
      },
      "source": [
        "url = \"https://covid19-data.p.rapidapi.com/india\"\n",
        "headers = {'x-rapidapi-host': \"covid19-data.p.rapidapi.com\", 'x-rapidapi-key': \"api-pw\"}\n",
        "response = requests.request(\"GET\", url, headers=headers)\n",
        "print(response.text)"
      ],
      "execution_count": 13,
      "outputs": [
        {
          "output_type": "stream",
          "text": [
            "[{\"countrycode\":\"IN\",\"country\":\"India\",\"state\":\"Andaman and Nicobar Islands\",\"latitude\":\"11.7401\",\"longitude\":\"92.6586\",\"confirmed\":33,\"deaths\":0,\"recovered\":33,\"active\":0},{\"countrycode\":\"IN\",\"country\":\"India\",\"state\":\"Andhra Pradesh\",\"latitude\":\"15.9129\",\"longitude\":\"79.74\",\"confirmed\":2709,\"deaths\":55,\"recovered\":1763,\"active\":891},{\"countrycode\":\"IN\",\"country\":\"India\",\"state\":\"Arunachal Pradesh\",\"latitude\":\"28.218\",\"longitude\":\"94.7278\",\"confirmed\":1,\"deaths\":0,\"recovered\":1,\"active\":0},{\"countrycode\":\"IN\",\"country\":\"India\",\"state\":\"Assam\",\"latitude\":\"26.2006\",\"longitude\":\"92.9376\",\"confirmed\":259,\"deaths\":4,\"recovered\":54,\"active\":201},{\"countrycode\":\"IN\",\"country\":\"India\",\"state\":\"Bihar\",\"latitude\":\"25.0961\",\"longitude\":\"85.3131\",\"confirmed\":2177,\"deaths\":11,\"recovered\":629,\"active\":1537},{\"countrycode\":\"IN\",\"country\":\"India\",\"state\":\"Chandigarh\",\"latitude\":\"30.7333\",\"longitude\":\"76.7794\",\"confirmed\":218,\"deaths\":3,\"recovered\":178,\"active\":37},{\"countrycode\":\"IN\",\"country\":\"India\",\"state\":\"Chhattisgarh\",\"latitude\":\"21.2787\",\"longitude\":\"81.8661\",\"confirmed\":172,\"deaths\":0,\"recovered\":62,\"active\":110},{\"countrycode\":\"IN\",\"country\":\"India\",\"state\":\"Delhi\",\"latitude\":\"28.7041\",\"longitude\":\"77.1025\",\"confirmed\":12319,\"deaths\":208,\"recovered\":5897,\"active\":6214},{\"countrycode\":\"IN\",\"country\":\"India\",\"state\":\"Goa\",\"latitude\":\"15.2993\",\"longitude\":\"74.124\",\"confirmed\":54,\"deaths\":0,\"recovered\":16,\"active\":38},{\"countrycode\":\"IN\",\"country\":\"India\",\"state\":\"Gujarat\",\"latitude\":\"22.309425\",\"longitude\":\"72.13623\",\"confirmed\":13268,\"deaths\":802,\"recovered\":5880,\"active\":6586},{\"countrycode\":\"IN\",\"country\":\"India\",\"state\":\"Haryana\",\"latitude\":\"29.238478\",\"longitude\":\"76.431885\",\"confirmed\":1067,\"deaths\":16,\"recovered\":706,\"active\":345},{\"countrycode\":\"IN\",\"country\":\"India\",\"state\":\"Himachal Pradesh\",\"latitude\":\"32.084206\",\"longitude\":\"77.571167\",\"confirmed\":168,\"deaths\":3,\"recovered\":59,\"active\":106},{\"countrycode\":\"IN\",\"country\":\"India\",\"state\":\"Jammu and Kashmir\",\"latitude\":\"33.7782\",\"longitude\":\"76.5762\",\"confirmed\":1489,\"deaths\":20,\"recovered\":720,\"active\":749},{\"countrycode\":\"IN\",\"country\":\"India\",\"state\":\"Jharkhand\",\"latitude\":\"23.6102\",\"longitude\":\"85.2799\",\"confirmed\":308,\"deaths\":3,\"recovered\":136,\"active\":169},{\"countrycode\":\"IN\",\"country\":\"India\",\"state\":\"Karnataka\",\"latitude\":\"15.317277\",\"longitude\":\"75.71389\",\"confirmed\":1743,\"deaths\":41,\"recovered\":597,\"active\":1105},{\"countrycode\":\"IN\",\"country\":\"India\",\"state\":\"Kerala\",\"latitude\":\"10.850516\",\"longitude\":\"76.27108\",\"confirmed\":732,\"deaths\":4,\"recovered\":512,\"active\":216},{\"countrycode\":\"IN\",\"country\":\"India\",\"state\":\"Ladakh\",\"latitude\":\"34.152588\",\"longitude\":\"77.577049\",\"confirmed\":44,\"deaths\":0,\"recovered\":43,\"active\":1},{\"countrycode\":\"IN\",\"country\":\"India\",\"state\":\"Madhya Pradesh\",\"latitude\":\"23.473324\",\"longitude\":\"77.947998\",\"confirmed\":6170,\"deaths\":272,\"recovered\":3089,\"active\":2809},{\"countrycode\":\"IN\",\"country\":\"India\",\"state\":\"Maharashtra\",\"latitude\":\"19.601194\",\"longitude\":\"75.552979\",\"confirmed\":44582,\"deaths\":1517,\"recovered\":12583,\"active\":30482},{\"countrycode\":\"IN\",\"country\":\"India\",\"state\":\"Manipur\",\"latitude\":\"24.6637\",\"longitude\":\"93.9063\",\"confirmed\":26,\"deaths\":0,\"recovered\":2,\"active\":24},{\"countrycode\":\"IN\",\"country\":\"India\",\"state\":\"Meghalaya\",\"latitude\":\"25.467\",\"longitude\":\"91.3662\",\"confirmed\":14,\"deaths\":1,\"recovered\":12,\"active\":1},{\"countrycode\":\"IN\",\"country\":\"India\",\"state\":\"Mizoram\",\"latitude\":\"23.1645\",\"longitude\":\"92.9376\",\"confirmed\":1,\"deaths\":0,\"recovered\":1,\"active\":0},{\"countrycode\":\"IN\",\"country\":\"India\",\"state\":\"Odisha\",\"latitude\":\"20.94092\",\"longitude\":\"84.803467\",\"confirmed\":1189,\"deaths\":7,\"recovered\":436,\"active\":746},{\"countrycode\":\"IN\",\"country\":\"India\",\"state\":\"Puducherry\",\"latitude\":\"11.9416\",\"longitude\":\"79.8083\",\"confirmed\":26,\"deaths\":0,\"recovered\":10,\"active\":16},{\"countrycode\":\"IN\",\"country\":\"India\",\"state\":\"Punjab\",\"latitude\":\"30.525005\",\"longitude\":\"75.890121\",\"confirmed\":2029,\"deaths\":39,\"recovered\":1847,\"active\":143},{\"countrycode\":\"IN\",\"country\":\"India\",\"state\":\"Rajasthan\",\"latitude\":\"27.0238\",\"longitude\":\"74.2179\",\"confirmed\":6494,\"deaths\":153,\"recovered\":3680,\"active\":2661},{\"countrycode\":\"IN\",\"country\":\"India\",\"state\":\"Tamil Nadu\",\"latitude\":\"11.059821\",\"longitude\":\"78.387451\",\"confirmed\":14753,\"deaths\":98,\"recovered\":7128,\"active\":7527},{\"countrycode\":\"IN\",\"country\":\"India\",\"state\":\"Telengana\",\"latitude\":\"17.123184\",\"longitude\":\"79.208824\",\"confirmed\":1761,\"deaths\":45,\"recovered\":1043,\"active\":673},{\"countrycode\":\"IN\",\"country\":\"India\",\"state\":\"Tripura\",\"latitude\":\"23.9408\",\"longitude\":\"91.9882\",\"confirmed\":175,\"deaths\":0,\"recovered\":152,\"active\":0},{\"countrycode\":\"IN\",\"country\":\"India\",\"state\":\"Uttarakhand\",\"latitude\":\"30.0668\",\"longitude\":\"79.0193\",\"confirmed\":153,\"deaths\":1,\"recovered\":56,\"active\":96},{\"countrycode\":\"IN\",\"country\":\"India\",\"state\":\"Uttar Pradesh\",\"latitude\":\"26.8467\",\"longitude\":\"80.9462\",\"confirmed\":5735,\"deaths\":152,\"recovered\":3238,\"active\":2345},{\"countrycode\":\"IN\",\"country\":\"India\",\"state\":\"West Bengal\",\"latitude\":\"22.978624\",\"longitude\":\"87.747803\",\"confirmed\":3332,\"deaths\":265,\"recovered\":1221,\"active\":1846},{\"countrycode\":\"IN\",\"country\":\"India\",\"state\":\"Lakshadweep\",\"latitude\":\"13.7\",\"longitude\":\"72.1833\",\"confirmed\":0,\"deaths\":0,\"recovered\":0,\"active\":0},{\"countrycode\":\"IN\",\"country\":\"India\",\"state\":\"Dadra and Nagar Haveli\",\"latitude\":\"20.1809\",\"longitude\":\"73.0169\",\"confirmed\":1,\"deaths\":0,\"recovered\":0,\"active\":1},{\"countrycode\":\"IN\",\"country\":\"India\",\"state\":\"Uttaranchal\",\"latitude\":\"30.0668\",\"longitude\":\"79.0193\",\"confirmed\":0,\"deaths\":0,\"recovered\":0,\"active\":0},{\"countrycode\":\"IN\",\"country\":\"India\",\"state\":\"Daman and Diu\",\"latitude\":\"20.4283\",\"longitude\":\"72.8397\",\"confirmed\":0,\"deaths\":0,\"recovered\":0,\"active\":0},{\"countrycode\":\"IN\",\"country\":\"India\",\"state\":\"Sikkim\",\"latitude\":\"27.533\",\"longitude\":\"88.5122\",\"confirmed\":0,\"deaths\":0,\"recovered\":0,\"active\":0},{\"countrycode\":\"IN\",\"country\":\"India\",\"state\":\"Nagaland\",\"latitude\":\"26.1584\",\"longitude\":\"94.5624\",\"confirmed\":0,\"deaths\":0,\"recovered\":0,\"active\":0}]\n"
          ],
          "name": "stdout"
        }
      ]
    },
    {
      "cell_type": "code",
      "metadata": {
        "id": "gle1rvrSTXtG",
        "colab_type": "code",
        "colab": {
          "base_uri": "https://localhost:8080/",
          "height": 1000
        },
        "outputId": "e3fec8b4-17ef-40a8-9960-6864b31f9ef7"
      },
      "source": [
        "js = json.loads(response.text)\n",
        "#print(\"******\", js)\n",
        "#result = js.get('response')\n",
        "js"
      ],
      "execution_count": 14,
      "outputs": [
        {
          "output_type": "execute_result",
          "data": {
            "text/plain": [
              "[{'active': 0,\n",
              "  'confirmed': 33,\n",
              "  'country': 'India',\n",
              "  'countrycode': 'IN',\n",
              "  'deaths': 0,\n",
              "  'latitude': '11.7401',\n",
              "  'longitude': '92.6586',\n",
              "  'recovered': 33,\n",
              "  'state': 'Andaman and Nicobar Islands'},\n",
              " {'active': 891,\n",
              "  'confirmed': 2709,\n",
              "  'country': 'India',\n",
              "  'countrycode': 'IN',\n",
              "  'deaths': 55,\n",
              "  'latitude': '15.9129',\n",
              "  'longitude': '79.74',\n",
              "  'recovered': 1763,\n",
              "  'state': 'Andhra Pradesh'},\n",
              " {'active': 0,\n",
              "  'confirmed': 1,\n",
              "  'country': 'India',\n",
              "  'countrycode': 'IN',\n",
              "  'deaths': 0,\n",
              "  'latitude': '28.218',\n",
              "  'longitude': '94.7278',\n",
              "  'recovered': 1,\n",
              "  'state': 'Arunachal Pradesh'},\n",
              " {'active': 201,\n",
              "  'confirmed': 259,\n",
              "  'country': 'India',\n",
              "  'countrycode': 'IN',\n",
              "  'deaths': 4,\n",
              "  'latitude': '26.2006',\n",
              "  'longitude': '92.9376',\n",
              "  'recovered': 54,\n",
              "  'state': 'Assam'},\n",
              " {'active': 1537,\n",
              "  'confirmed': 2177,\n",
              "  'country': 'India',\n",
              "  'countrycode': 'IN',\n",
              "  'deaths': 11,\n",
              "  'latitude': '25.0961',\n",
              "  'longitude': '85.3131',\n",
              "  'recovered': 629,\n",
              "  'state': 'Bihar'},\n",
              " {'active': 37,\n",
              "  'confirmed': 218,\n",
              "  'country': 'India',\n",
              "  'countrycode': 'IN',\n",
              "  'deaths': 3,\n",
              "  'latitude': '30.7333',\n",
              "  'longitude': '76.7794',\n",
              "  'recovered': 178,\n",
              "  'state': 'Chandigarh'},\n",
              " {'active': 110,\n",
              "  'confirmed': 172,\n",
              "  'country': 'India',\n",
              "  'countrycode': 'IN',\n",
              "  'deaths': 0,\n",
              "  'latitude': '21.2787',\n",
              "  'longitude': '81.8661',\n",
              "  'recovered': 62,\n",
              "  'state': 'Chhattisgarh'},\n",
              " {'active': 6214,\n",
              "  'confirmed': 12319,\n",
              "  'country': 'India',\n",
              "  'countrycode': 'IN',\n",
              "  'deaths': 208,\n",
              "  'latitude': '28.7041',\n",
              "  'longitude': '77.1025',\n",
              "  'recovered': 5897,\n",
              "  'state': 'Delhi'},\n",
              " {'active': 38,\n",
              "  'confirmed': 54,\n",
              "  'country': 'India',\n",
              "  'countrycode': 'IN',\n",
              "  'deaths': 0,\n",
              "  'latitude': '15.2993',\n",
              "  'longitude': '74.124',\n",
              "  'recovered': 16,\n",
              "  'state': 'Goa'},\n",
              " {'active': 6586,\n",
              "  'confirmed': 13268,\n",
              "  'country': 'India',\n",
              "  'countrycode': 'IN',\n",
              "  'deaths': 802,\n",
              "  'latitude': '22.309425',\n",
              "  'longitude': '72.13623',\n",
              "  'recovered': 5880,\n",
              "  'state': 'Gujarat'},\n",
              " {'active': 345,\n",
              "  'confirmed': 1067,\n",
              "  'country': 'India',\n",
              "  'countrycode': 'IN',\n",
              "  'deaths': 16,\n",
              "  'latitude': '29.238478',\n",
              "  'longitude': '76.431885',\n",
              "  'recovered': 706,\n",
              "  'state': 'Haryana'},\n",
              " {'active': 106,\n",
              "  'confirmed': 168,\n",
              "  'country': 'India',\n",
              "  'countrycode': 'IN',\n",
              "  'deaths': 3,\n",
              "  'latitude': '32.084206',\n",
              "  'longitude': '77.571167',\n",
              "  'recovered': 59,\n",
              "  'state': 'Himachal Pradesh'},\n",
              " {'active': 749,\n",
              "  'confirmed': 1489,\n",
              "  'country': 'India',\n",
              "  'countrycode': 'IN',\n",
              "  'deaths': 20,\n",
              "  'latitude': '33.7782',\n",
              "  'longitude': '76.5762',\n",
              "  'recovered': 720,\n",
              "  'state': 'Jammu and Kashmir'},\n",
              " {'active': 169,\n",
              "  'confirmed': 308,\n",
              "  'country': 'India',\n",
              "  'countrycode': 'IN',\n",
              "  'deaths': 3,\n",
              "  'latitude': '23.6102',\n",
              "  'longitude': '85.2799',\n",
              "  'recovered': 136,\n",
              "  'state': 'Jharkhand'},\n",
              " {'active': 1105,\n",
              "  'confirmed': 1743,\n",
              "  'country': 'India',\n",
              "  'countrycode': 'IN',\n",
              "  'deaths': 41,\n",
              "  'latitude': '15.317277',\n",
              "  'longitude': '75.71389',\n",
              "  'recovered': 597,\n",
              "  'state': 'Karnataka'},\n",
              " {'active': 216,\n",
              "  'confirmed': 732,\n",
              "  'country': 'India',\n",
              "  'countrycode': 'IN',\n",
              "  'deaths': 4,\n",
              "  'latitude': '10.850516',\n",
              "  'longitude': '76.27108',\n",
              "  'recovered': 512,\n",
              "  'state': 'Kerala'},\n",
              " {'active': 1,\n",
              "  'confirmed': 44,\n",
              "  'country': 'India',\n",
              "  'countrycode': 'IN',\n",
              "  'deaths': 0,\n",
              "  'latitude': '34.152588',\n",
              "  'longitude': '77.577049',\n",
              "  'recovered': 43,\n",
              "  'state': 'Ladakh'},\n",
              " {'active': 2809,\n",
              "  'confirmed': 6170,\n",
              "  'country': 'India',\n",
              "  'countrycode': 'IN',\n",
              "  'deaths': 272,\n",
              "  'latitude': '23.473324',\n",
              "  'longitude': '77.947998',\n",
              "  'recovered': 3089,\n",
              "  'state': 'Madhya Pradesh'},\n",
              " {'active': 30482,\n",
              "  'confirmed': 44582,\n",
              "  'country': 'India',\n",
              "  'countrycode': 'IN',\n",
              "  'deaths': 1517,\n",
              "  'latitude': '19.601194',\n",
              "  'longitude': '75.552979',\n",
              "  'recovered': 12583,\n",
              "  'state': 'Maharashtra'},\n",
              " {'active': 24,\n",
              "  'confirmed': 26,\n",
              "  'country': 'India',\n",
              "  'countrycode': 'IN',\n",
              "  'deaths': 0,\n",
              "  'latitude': '24.6637',\n",
              "  'longitude': '93.9063',\n",
              "  'recovered': 2,\n",
              "  'state': 'Manipur'},\n",
              " {'active': 1,\n",
              "  'confirmed': 14,\n",
              "  'country': 'India',\n",
              "  'countrycode': 'IN',\n",
              "  'deaths': 1,\n",
              "  'latitude': '25.467',\n",
              "  'longitude': '91.3662',\n",
              "  'recovered': 12,\n",
              "  'state': 'Meghalaya'},\n",
              " {'active': 0,\n",
              "  'confirmed': 1,\n",
              "  'country': 'India',\n",
              "  'countrycode': 'IN',\n",
              "  'deaths': 0,\n",
              "  'latitude': '23.1645',\n",
              "  'longitude': '92.9376',\n",
              "  'recovered': 1,\n",
              "  'state': 'Mizoram'},\n",
              " {'active': 746,\n",
              "  'confirmed': 1189,\n",
              "  'country': 'India',\n",
              "  'countrycode': 'IN',\n",
              "  'deaths': 7,\n",
              "  'latitude': '20.94092',\n",
              "  'longitude': '84.803467',\n",
              "  'recovered': 436,\n",
              "  'state': 'Odisha'},\n",
              " {'active': 16,\n",
              "  'confirmed': 26,\n",
              "  'country': 'India',\n",
              "  'countrycode': 'IN',\n",
              "  'deaths': 0,\n",
              "  'latitude': '11.9416',\n",
              "  'longitude': '79.8083',\n",
              "  'recovered': 10,\n",
              "  'state': 'Puducherry'},\n",
              " {'active': 143,\n",
              "  'confirmed': 2029,\n",
              "  'country': 'India',\n",
              "  'countrycode': 'IN',\n",
              "  'deaths': 39,\n",
              "  'latitude': '30.525005',\n",
              "  'longitude': '75.890121',\n",
              "  'recovered': 1847,\n",
              "  'state': 'Punjab'},\n",
              " {'active': 2661,\n",
              "  'confirmed': 6494,\n",
              "  'country': 'India',\n",
              "  'countrycode': 'IN',\n",
              "  'deaths': 153,\n",
              "  'latitude': '27.0238',\n",
              "  'longitude': '74.2179',\n",
              "  'recovered': 3680,\n",
              "  'state': 'Rajasthan'},\n",
              " {'active': 7527,\n",
              "  'confirmed': 14753,\n",
              "  'country': 'India',\n",
              "  'countrycode': 'IN',\n",
              "  'deaths': 98,\n",
              "  'latitude': '11.059821',\n",
              "  'longitude': '78.387451',\n",
              "  'recovered': 7128,\n",
              "  'state': 'Tamil Nadu'},\n",
              " {'active': 673,\n",
              "  'confirmed': 1761,\n",
              "  'country': 'India',\n",
              "  'countrycode': 'IN',\n",
              "  'deaths': 45,\n",
              "  'latitude': '17.123184',\n",
              "  'longitude': '79.208824',\n",
              "  'recovered': 1043,\n",
              "  'state': 'Telengana'},\n",
              " {'active': 0,\n",
              "  'confirmed': 175,\n",
              "  'country': 'India',\n",
              "  'countrycode': 'IN',\n",
              "  'deaths': 0,\n",
              "  'latitude': '23.9408',\n",
              "  'longitude': '91.9882',\n",
              "  'recovered': 152,\n",
              "  'state': 'Tripura'},\n",
              " {'active': 96,\n",
              "  'confirmed': 153,\n",
              "  'country': 'India',\n",
              "  'countrycode': 'IN',\n",
              "  'deaths': 1,\n",
              "  'latitude': '30.0668',\n",
              "  'longitude': '79.0193',\n",
              "  'recovered': 56,\n",
              "  'state': 'Uttarakhand'},\n",
              " {'active': 2345,\n",
              "  'confirmed': 5735,\n",
              "  'country': 'India',\n",
              "  'countrycode': 'IN',\n",
              "  'deaths': 152,\n",
              "  'latitude': '26.8467',\n",
              "  'longitude': '80.9462',\n",
              "  'recovered': 3238,\n",
              "  'state': 'Uttar Pradesh'},\n",
              " {'active': 1846,\n",
              "  'confirmed': 3332,\n",
              "  'country': 'India',\n",
              "  'countrycode': 'IN',\n",
              "  'deaths': 265,\n",
              "  'latitude': '22.978624',\n",
              "  'longitude': '87.747803',\n",
              "  'recovered': 1221,\n",
              "  'state': 'West Bengal'},\n",
              " {'active': 0,\n",
              "  'confirmed': 0,\n",
              "  'country': 'India',\n",
              "  'countrycode': 'IN',\n",
              "  'deaths': 0,\n",
              "  'latitude': '13.7',\n",
              "  'longitude': '72.1833',\n",
              "  'recovered': 0,\n",
              "  'state': 'Lakshadweep'},\n",
              " {'active': 1,\n",
              "  'confirmed': 1,\n",
              "  'country': 'India',\n",
              "  'countrycode': 'IN',\n",
              "  'deaths': 0,\n",
              "  'latitude': '20.1809',\n",
              "  'longitude': '73.0169',\n",
              "  'recovered': 0,\n",
              "  'state': 'Dadra and Nagar Haveli'},\n",
              " {'active': 0,\n",
              "  'confirmed': 0,\n",
              "  'country': 'India',\n",
              "  'countrycode': 'IN',\n",
              "  'deaths': 0,\n",
              "  'latitude': '30.0668',\n",
              "  'longitude': '79.0193',\n",
              "  'recovered': 0,\n",
              "  'state': 'Uttaranchal'},\n",
              " {'active': 0,\n",
              "  'confirmed': 0,\n",
              "  'country': 'India',\n",
              "  'countrycode': 'IN',\n",
              "  'deaths': 0,\n",
              "  'latitude': '20.4283',\n",
              "  'longitude': '72.8397',\n",
              "  'recovered': 0,\n",
              "  'state': 'Daman and Diu'},\n",
              " {'active': 0,\n",
              "  'confirmed': 0,\n",
              "  'country': 'India',\n",
              "  'countrycode': 'IN',\n",
              "  'deaths': 0,\n",
              "  'latitude': '27.533',\n",
              "  'longitude': '88.5122',\n",
              "  'recovered': 0,\n",
              "  'state': 'Sikkim'},\n",
              " {'active': 0,\n",
              "  'confirmed': 0,\n",
              "  'country': 'India',\n",
              "  'countrycode': 'IN',\n",
              "  'deaths': 0,\n",
              "  'latitude': '26.1584',\n",
              "  'longitude': '94.5624',\n",
              "  'recovered': 0,\n",
              "  'state': 'Nagaland'}]"
            ]
          },
          "metadata": {
            "tags": []
          },
          "execution_count": 14
        }
      ]
    },
    {
      "cell_type": "code",
      "metadata": {
        "id": "gIK_CjSUWFJn",
        "colab_type": "code",
        "colab": {
          "base_uri": "https://localhost:8080/",
          "height": 54
        },
        "outputId": "db07ff7c-dd1f-4d02-af1f-8b0aaab6f754"
      },
      "source": [
        "str(js)"
      ],
      "execution_count": 15,
      "outputs": [
        {
          "output_type": "execute_result",
          "data": {
            "text/plain": [
              "\"[{'countrycode': 'IN', 'country': 'India', 'state': 'Andaman and Nicobar Islands', 'latitude': '11.7401', 'longitude': '92.6586', 'confirmed': 33, 'deaths': 0, 'recovered': 33, 'active': 0}, {'countrycode': 'IN', 'country': 'India', 'state': 'Andhra Pradesh', 'latitude': '15.9129', 'longitude': '79.74', 'confirmed': 2709, 'deaths': 55, 'recovered': 1763, 'active': 891}, {'countrycode': 'IN', 'country': 'India', 'state': 'Arunachal Pradesh', 'latitude': '28.218', 'longitude': '94.7278', 'confirmed': 1, 'deaths': 0, 'recovered': 1, 'active': 0}, {'countrycode': 'IN', 'country': 'India', 'state': 'Assam', 'latitude': '26.2006', 'longitude': '92.9376', 'confirmed': 259, 'deaths': 4, 'recovered': 54, 'active': 201}, {'countrycode': 'IN', 'country': 'India', 'state': 'Bihar', 'latitude': '25.0961', 'longitude': '85.3131', 'confirmed': 2177, 'deaths': 11, 'recovered': 629, 'active': 1537}, {'countrycode': 'IN', 'country': 'India', 'state': 'Chandigarh', 'latitude': '30.7333', 'longitude': '76.7794', 'confirmed': 218, 'deaths': 3, 'recovered': 178, 'active': 37}, {'countrycode': 'IN', 'country': 'India', 'state': 'Chhattisgarh', 'latitude': '21.2787', 'longitude': '81.8661', 'confirmed': 172, 'deaths': 0, 'recovered': 62, 'active': 110}, {'countrycode': 'IN', 'country': 'India', 'state': 'Delhi', 'latitude': '28.7041', 'longitude': '77.1025', 'confirmed': 12319, 'deaths': 208, 'recovered': 5897, 'active': 6214}, {'countrycode': 'IN', 'country': 'India', 'state': 'Goa', 'latitude': '15.2993', 'longitude': '74.124', 'confirmed': 54, 'deaths': 0, 'recovered': 16, 'active': 38}, {'countrycode': 'IN', 'country': 'India', 'state': 'Gujarat', 'latitude': '22.309425', 'longitude': '72.13623', 'confirmed': 13268, 'deaths': 802, 'recovered': 5880, 'active': 6586}, {'countrycode': 'IN', 'country': 'India', 'state': 'Haryana', 'latitude': '29.238478', 'longitude': '76.431885', 'confirmed': 1067, 'deaths': 16, 'recovered': 706, 'active': 345}, {'countrycode': 'IN', 'country': 'India', 'state': 'Himachal Pradesh', 'latitude': '32.084206', 'longitude': '77.571167', 'confirmed': 168, 'deaths': 3, 'recovered': 59, 'active': 106}, {'countrycode': 'IN', 'country': 'India', 'state': 'Jammu and Kashmir', 'latitude': '33.7782', 'longitude': '76.5762', 'confirmed': 1489, 'deaths': 20, 'recovered': 720, 'active': 749}, {'countrycode': 'IN', 'country': 'India', 'state': 'Jharkhand', 'latitude': '23.6102', 'longitude': '85.2799', 'confirmed': 308, 'deaths': 3, 'recovered': 136, 'active': 169}, {'countrycode': 'IN', 'country': 'India', 'state': 'Karnataka', 'latitude': '15.317277', 'longitude': '75.71389', 'confirmed': 1743, 'deaths': 41, 'recovered': 597, 'active': 1105}, {'countrycode': 'IN', 'country': 'India', 'state': 'Kerala', 'latitude': '10.850516', 'longitude': '76.27108', 'confirmed': 732, 'deaths': 4, 'recovered': 512, 'active': 216}, {'countrycode': 'IN', 'country': 'India', 'state': 'Ladakh', 'latitude': '34.152588', 'longitude': '77.577049', 'confirmed': 44, 'deaths': 0, 'recovered': 43, 'active': 1}, {'countrycode': 'IN', 'country': 'India', 'state': 'Madhya Pradesh', 'latitude': '23.473324', 'longitude': '77.947998', 'confirmed': 6170, 'deaths': 272, 'recovered': 3089, 'active': 2809}, {'countrycode': 'IN', 'country': 'India', 'state': 'Maharashtra', 'latitude': '19.601194', 'longitude': '75.552979', 'confirmed': 44582, 'deaths': 1517, 'recovered': 12583, 'active': 30482}, {'countrycode': 'IN', 'country': 'India', 'state': 'Manipur', 'latitude': '24.6637', 'longitude': '93.9063', 'confirmed': 26, 'deaths': 0, 'recovered': 2, 'active': 24}, {'countrycode': 'IN', 'country': 'India', 'state': 'Meghalaya', 'latitude': '25.467', 'longitude': '91.3662', 'confirmed': 14, 'deaths': 1, 'recovered': 12, 'active': 1}, {'countrycode': 'IN', 'country': 'India', 'state': 'Mizoram', 'latitude': '23.1645', 'longitude': '92.9376', 'confirmed': 1, 'deaths': 0, 'recovered': 1, 'active': 0}, {'countrycode': 'IN', 'country': 'India', 'state': 'Odisha', 'latitude': '20.94092', 'longitude': '84.803467', 'confirmed': 1189, 'deaths': 7, 'recovered': 436, 'active': 746}, {'countrycode': 'IN', 'country': 'India', 'state': 'Puducherry', 'latitude': '11.9416', 'longitude': '79.8083', 'confirmed': 26, 'deaths': 0, 'recovered': 10, 'active': 16}, {'countrycode': 'IN', 'country': 'India', 'state': 'Punjab', 'latitude': '30.525005', 'longitude': '75.890121', 'confirmed': 2029, 'deaths': 39, 'recovered': 1847, 'active': 143}, {'countrycode': 'IN', 'country': 'India', 'state': 'Rajasthan', 'latitude': '27.0238', 'longitude': '74.2179', 'confirmed': 6494, 'deaths': 153, 'recovered': 3680, 'active': 2661}, {'countrycode': 'IN', 'country': 'India', 'state': 'Tamil Nadu', 'latitude': '11.059821', 'longitude': '78.387451', 'confirmed': 14753, 'deaths': 98, 'recovered': 7128, 'active': 7527}, {'countrycode': 'IN', 'country': 'India', 'state': 'Telengana', 'latitude': '17.123184', 'longitude': '79.208824', 'confirmed': 1761, 'deaths': 45, 'recovered': 1043, 'active': 673}, {'countrycode': 'IN', 'country': 'India', 'state': 'Tripura', 'latitude': '23.9408', 'longitude': '91.9882', 'confirmed': 175, 'deaths': 0, 'recovered': 152, 'active': 0}, {'countrycode': 'IN', 'country': 'India', 'state': 'Uttarakhand', 'latitude': '30.0668', 'longitude': '79.0193', 'confirmed': 153, 'deaths': 1, 'recovered': 56, 'active': 96}, {'countrycode': 'IN', 'country': 'India', 'state': 'Uttar Pradesh', 'latitude': '26.8467', 'longitude': '80.9462', 'confirmed': 5735, 'deaths': 152, 'recovered': 3238, 'active': 2345}, {'countrycode': 'IN', 'country': 'India', 'state': 'West Bengal', 'latitude': '22.978624', 'longitude': '87.747803', 'confirmed': 3332, 'deaths': 265, 'recovered': 1221, 'active': 1846}, {'countrycode': 'IN', 'country': 'India', 'state': 'Lakshadweep', 'latitude': '13.7', 'longitude': '72.1833', 'confirmed': 0, 'deaths': 0, 'recovered': 0, 'active': 0}, {'countrycode': 'IN', 'country': 'India', 'state': 'Dadra and Nagar Haveli', 'latitude': '20.1809', 'longitude': '73.0169', 'confirmed': 1, 'deaths': 0, 'recovered': 0, 'active': 1}, {'countrycode': 'IN', 'country': 'India', 'state': 'Uttaranchal', 'latitude': '30.0668', 'longitude': '79.0193', 'confirmed': 0, 'deaths': 0, 'recovered': 0, 'active': 0}, {'countrycode': 'IN', 'country': 'India', 'state': 'Daman and Diu', 'latitude': '20.4283', 'longitude': '72.8397', 'confirmed': 0, 'deaths': 0, 'recovered': 0, 'active': 0}, {'countrycode': 'IN', 'country': 'India', 'state': 'Sikkim', 'latitude': '27.533', 'longitude': '88.5122', 'confirmed': 0, 'deaths': 0, 'recovered': 0, 'active': 0}, {'countrycode': 'IN', 'country': 'India', 'state': 'Nagaland', 'latitude': '26.1584', 'longitude': '94.5624', 'confirmed': 0, 'deaths': 0, 'recovered': 0, 'active': 0}]\""
            ]
          },
          "metadata": {
            "tags": []
          },
          "execution_count": 15
        }
      ]
    },
    {
      "cell_type": "code",
      "metadata": {
        "id": "qORO6Tb6o4NO",
        "colab_type": "code",
        "colab": {
          "base_uri": "https://localhost:8080/",
          "height": 54
        },
        "outputId": "4a921b91-53fa-44d6-8131-fbda43b1fb91"
      },
      "source": [
        "import requests\n",
        "url = \"https://covid-193.p.rapidapi.com/statistics\"\n",
        "querystring = {\"country\": \"India\"}\n",
        "headers = {'x-rapidapi-host': \"covid-193.p.rapidapi.com\", 'x-rapidapi-key': \"api-pw\"}\n",
        "response = requests.request(\"GET\", url, headers=headers, params=querystring)\n",
        "print(response.text)"
      ],
      "execution_count": 16,
      "outputs": [
        {
          "output_type": "stream",
          "text": [
            "{\"get\":\"statistics\",\"parameters\":{\"country\":\"India\"},\"errors\":[],\"results\":1,\"response\":[{\"country\":\"India\",\"cases\":{\"new\":\"+513\",\"active\":77304,\"critical\":8944,\"recovered\":57721,\"total\":139049},\"deaths\":{\"new\":null,\"total\":4024},\"tests\":{\"total\":3033591},\"day\":\"2020-05-25\",\"time\":\"2020-05-25T07:45:04+00:00\"}]}\n"
          ],
          "name": "stdout"
        }
      ]
    },
    {
      "cell_type": "markdown",
      "metadata": {
        "id": "GYnTZ261uhs9",
        "colab_type": "text"
      },
      "source": [
        "# Mail Testing"
      ]
    },
    {
      "cell_type": "code",
      "metadata": {
        "id": "6CkWdgP3o6nv",
        "colab_type": "code",
        "colab": {}
      },
      "source": [
        "import os\n",
        "import smtplib\n",
        "import imghdr\n",
        "from email.message import EmailMessage\n",
        "\n",
        "EMAIL_ADDRESS = 'add-your-mail-add@gmail.com'   # os.environ.get('dev-id')\n",
        "EMAIL_PASSWORD = 'add-your-mail-pw'             # os.environ.get('dev-pw')\n",
        "\n",
        "# contacts = ['rahulbordoloi24@gmail.com', '1729048@kiit.ac.in']\n",
        "\n",
        "msg = EmailMessage()\n",
        "msg['Subject'] = 'Check out Bronx as a puppy!'\n",
        "msg['From'] = EMAIL_ADDRESS\n",
        "msg['To'] = 'add-your-mail-add@gmail.com'\n",
        "\n",
        "msg.set_content('This is a plain text email')\n",
        "\n",
        "msg.add_alternative(\"\"\"\\<!DOCTYPE html><html><body><h1 style=\"color:SlateGray;\">This is an HTML Email!</h1></body></html>\"\"\", subtype='html')\n",
        "\n",
        "with smtplib.SMTP_SSL('smtp.gmail.com', 465) as smtp:\n",
        "    smtp.login(EMAIL_ADDRESS, EMAIL_PASSWORD)\n",
        "    smtp.send_message(msg)"
      ],
      "execution_count": 0,
      "outputs": []
    },
    {
      "cell_type": "code",
      "metadata": {
        "id": "FyJEmLi15lh8",
        "colab_type": "code",
        "colab": {
          "base_uri": "https://localhost:8080/",
          "height": 68
        },
        "outputId": "b4d42b49-c22f-4c96-9af4-81d4dfc0202b"
      },
      "source": [
        "hello = \"\"\"Hello, \n",
        "    kaise ho?\n",
        "    batao?\"\"\"\n",
        "print(hello)"
      ],
      "execution_count": 18,
      "outputs": [
        {
          "output_type": "stream",
          "text": [
            "Hello, \n",
            "    kaise ho?\n",
            "    batao?\n"
          ],
          "name": "stdout"
        }
      ]
    },
    {
      "cell_type": "code",
      "metadata": {
        "id": "s-5s1Gv3VL38",
        "colab_type": "code",
        "colab": {}
      },
      "source": [
        ""
      ],
      "execution_count": 0,
      "outputs": []
    }
  ]
}